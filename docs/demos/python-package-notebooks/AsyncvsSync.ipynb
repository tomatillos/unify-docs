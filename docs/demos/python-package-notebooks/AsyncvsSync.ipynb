{
  "cells": [
    {
      "attachments": {},
      "cell_type": "markdown",
      "metadata": {
        "id": "Gp0FAI1Zkbxw"
      },
      "source": [
        "### Synchronous VS Asynchronous Clients\n"
      ]
    },
    {
      "cell_type": "markdown",
      "metadata": {
        "id": "i1QFiUcdR-aJ"
      },
      "source": [
        "Given the growing demand for real-time applications and user demands for instant responses, it's crucial to grasp the performance implications between Sync and Async clients. In this notebook, we'll delve into the variations between asynchronous and synchronous response times using UnifyAI's API."
      ]
    },
    {
      "cell_type": "markdown",
      "metadata": {
        "id": "rk9DTfrG1Egv"
      },
      "source": [
        "In order to run this notebook, you need to generate your UNIFY key from the [console](https://console.unify.ai/login?callbackUrl=%2F). Once you have it, assign it to the `UNIFY_KEY` variable below."
      ]
    },
    {
      "cell_type": "code",
      "execution_count": null,
      "metadata": {
        "id": "3HEAU0aE1Cb0"
      },
      "outputs": [],
      "source": [
        "UNIFY_KEY=#ENTERUNIFYKEY"
      ]
    },
    {
      "cell_type": "markdown",
      "metadata": {
        "id": "EdCA_YoYQ-X8"
      },
      "source": [
        "#### Install Dependencies"
      ]
    },
    {
      "cell_type": "markdown",
      "metadata": {
        "id": "HS2xRFiNPSiL"
      },
      "source": [
        "To run this notebook, you will need to install the `unifyai` [python package](https://pypi.org/project/unifyai/). You can do so by running the cell below ⬇️"
      ]
    },
    {
      "cell_type": "code",
      "execution_count": null,
      "metadata": {
        "colab": {
          "base_uri": "https://localhost:8080/"
        },
        "id": "0MqRVTcHgWhl",
        "outputId": "489a5a4d-f4f3-41cf-9d5f-47cb77a3978b"
      },
      "outputs": [
        {
          "name": "stdout",
          "output_type": "stream",
          "text": [
            "Collecting unifyai\n",
            "  Downloading unifyai-0.8.1-py3-none-any.whl (14 kB)\n",
            "Collecting openai<2.0.0,>=1.12.0 (from unifyai)\n",
            "  Downloading openai-1.17.1-py3-none-any.whl (268 kB)\n",
            "\u001b[2K     \u001b[90m━━━━━━━━━━━━━━━━━━━━━━━━━━━━━━━━━━━━━━━━\u001b[0m \u001b[32m268.3/268.3 kB\u001b[0m \u001b[31m4.6 MB/s\u001b[0m eta \u001b[36m0:00:00\u001b[0m\n",
            "\u001b[?25hRequirement already satisfied: requests<3.0.0,>=2.31.0 in /usr/local/lib/python3.10/dist-packages (from unifyai) (2.31.0)\n",
            "Requirement already satisfied: anyio<5,>=3.5.0 in /usr/local/lib/python3.10/dist-packages (from openai<2.0.0,>=1.12.0->unifyai) (3.7.1)\n",
            "Requirement already satisfied: distro<2,>=1.7.0 in /usr/lib/python3/dist-packages (from openai<2.0.0,>=1.12.0->unifyai) (1.7.0)\n",
            "Collecting httpx<1,>=0.23.0 (from openai<2.0.0,>=1.12.0->unifyai)\n",
            "  Downloading httpx-0.27.0-py3-none-any.whl (75 kB)\n",
            "\u001b[2K     \u001b[90m━━━━━━━━━━━━━━━━━━━━━━━━━━━━━━━━━━━━━━━━\u001b[0m \u001b[32m75.6/75.6 kB\u001b[0m \u001b[31m5.7 MB/s\u001b[0m eta \u001b[36m0:00:00\u001b[0m\n",
            "\u001b[?25hRequirement already satisfied: pydantic<3,>=1.9.0 in /usr/local/lib/python3.10/dist-packages (from openai<2.0.0,>=1.12.0->unifyai) (2.6.4)\n",
            "Requirement already satisfied: sniffio in /usr/local/lib/python3.10/dist-packages (from openai<2.0.0,>=1.12.0->unifyai) (1.3.1)\n",
            "Requirement already satisfied: tqdm>4 in /usr/local/lib/python3.10/dist-packages (from openai<2.0.0,>=1.12.0->unifyai) (4.66.2)\n",
            "Requirement already satisfied: typing-extensions<5,>=4.7 in /usr/local/lib/python3.10/dist-packages (from openai<2.0.0,>=1.12.0->unifyai) (4.11.0)\n",
            "Requirement already satisfied: charset-normalizer<4,>=2 in /usr/local/lib/python3.10/dist-packages (from requests<3.0.0,>=2.31.0->unifyai) (3.3.2)\n",
            "Requirement already satisfied: idna<4,>=2.5 in /usr/local/lib/python3.10/dist-packages (from requests<3.0.0,>=2.31.0->unifyai) (3.6)\n",
            "Requirement already satisfied: urllib3<3,>=1.21.1 in /usr/local/lib/python3.10/dist-packages (from requests<3.0.0,>=2.31.0->unifyai) (2.0.7)\n",
            "Requirement already satisfied: certifi>=2017.4.17 in /usr/local/lib/python3.10/dist-packages (from requests<3.0.0,>=2.31.0->unifyai) (2024.2.2)\n",
            "Requirement already satisfied: exceptiongroup in /usr/local/lib/python3.10/dist-packages (from anyio<5,>=3.5.0->openai<2.0.0,>=1.12.0->unifyai) (1.2.0)\n",
            "Collecting httpcore==1.* (from httpx<1,>=0.23.0->openai<2.0.0,>=1.12.0->unifyai)\n",
            "  Downloading httpcore-1.0.5-py3-none-any.whl (77 kB)\n",
            "\u001b[2K     \u001b[90m━━━━━━━━━━━━━━━━━━━━━━━━━━━━━━━━━━━━━━━━\u001b[0m \u001b[32m77.9/77.9 kB\u001b[0m \u001b[31m7.0 MB/s\u001b[0m eta \u001b[36m0:00:00\u001b[0m\n",
            "\u001b[?25hCollecting h11<0.15,>=0.13 (from httpcore==1.*->httpx<1,>=0.23.0->openai<2.0.0,>=1.12.0->unifyai)\n",
            "  Downloading h11-0.14.0-py3-none-any.whl (58 kB)\n",
            "\u001b[2K     \u001b[90m━━━━━━━━━━━━━━━━━━━━━━━━━━━━━━━━━━━━━━━━\u001b[0m \u001b[32m58.3/58.3 kB\u001b[0m \u001b[31m4.6 MB/s\u001b[0m eta \u001b[36m0:00:00\u001b[0m\n",
            "\u001b[?25hRequirement already satisfied: annotated-types>=0.4.0 in /usr/local/lib/python3.10/dist-packages (from pydantic<3,>=1.9.0->openai<2.0.0,>=1.12.0->unifyai) (0.6.0)\n",
            "Requirement already satisfied: pydantic-core==2.16.3 in /usr/local/lib/python3.10/dist-packages (from pydantic<3,>=1.9.0->openai<2.0.0,>=1.12.0->unifyai) (2.16.3)\n",
            "Installing collected packages: h11, httpcore, httpx, openai, unifyai\n",
            "Successfully installed h11-0.14.0 httpcore-1.0.5 httpx-0.27.0 openai-1.17.1 unifyai-0.8.1\n"
          ]
        }
      ],
      "source": [
        "!pip install unifyai"
      ]
    },
    {
      "cell_type": "markdown",
      "metadata": {
        "id": "rhgBuOhzRFeE"
      },
      "source": [
        "#### Synchronous Clients"
      ]
    },
    {
      "cell_type": "markdown",
      "metadata": {
        "id": "yX6plilUlGYl"
      },
      "source": [
        "A Synchronous client handles requests sequentially, processing one at a time. This means that each request must be fully handled before the next one is processed, resulting in potential blocking of the program's execution. You can use a Sync client with Unify as shown below:"
      ]
    },
    {
      "cell_type": "code",
      "execution_count": null,
      "metadata": {
        "colab": {
          "base_uri": "https://localhost:8080/"
        },
        "id": "VGGw4tDagqV5",
        "outputId": "652924b3-4a25-4946-fc1a-c59281d9b33a"
      },
      "outputs": [
        {
          "name": "stdout",
          "output_type": "stream",
          "text": [
            "HOO-RAY! *tutu* Hello there, young grasshopper! *bray* Isaac Newton was a majestic figure known for his work in math and science. He was born in 1642 in England and grew up to be a brilliant thinker and a fellow of the Royal Society. *twirl*\n",
            "\n",
            "Newton is perhaps best known for his laws of motion and his law of universal gravitation. These laws explained how objects move and how gravity works. He also discovered calculus, which is a way of using math to understand how things change over time. *mathematical mnum hop*\n",
            "\n",
            "But that's not all, oh no! Newton was also a bit of an alchemist and studied the nature of light. He even invented a fancy piece of equipment called a \"reflecting telescope\" to observe the heavens. *shimmer*\n",
            "\n",
            "Newton was a true renaissance thinker, and his contributions to science and mathematics are still celebrated today. *tutu* He was a true llama of learning, and his legacy continues to inspire us all. *bray*\n"
          ]
        }
      ],
      "source": [
        "from unify import Unify\n",
        "unify = Unify(\n",
        "    api_key=UNIFY_KEY,\n",
        "    endpoint=\"llama-2-13b-chat@anyscale\"\n",
        ")\n",
        "response = unify.generate(user_prompt=\"Hello Llama! Who was Isaac Newton?\")\n",
        "print(response)"
      ]
    },
    {
      "cell_type": "markdown",
      "metadata": {
        "id": "1Swnehb9Rvdh"
      },
      "source": [
        "#### Async Clients"
      ]
    },
    {
      "cell_type": "markdown",
      "metadata": {
        "id": "H-A9MRms2n-g"
      },
      "source": [
        "An Asynchronous client can handle multiple requests concurrently without blocking. To use the Async client, import `AsyncUnify` instead of `Unify` and use `await` with the `.generate` method. This signals to the program to pause execution until the asynchronous operation completes. Additionally, we'll use the `asyncio` library for managing asynchronous execution and coroutines. `asyncio` provides tools for building concurrent programs using coroutines, which can be paused and resumed, allowing for efficient handling of asynchronous tasks.\n",
        "\n",
        "\n",
        "NOTE: Running ansyncio in notebooks conflicts with the existing event loop run in the notebook. As a workaround, we need to use `net_asyncio.apply`. Please see [this issue](https://github.com/jupyter/notebook/issues/3397) for more details."
      ]
    },
    {
      "cell_type": "code",
      "execution_count": null,
      "metadata": {
        "colab": {
          "base_uri": "https://localhost:8080/"
        },
        "id": "b25iLp5nOPxQ",
        "outputId": "d5b6b0d8-d82d-4804-9ffb-989426f130ef"
      },
      "outputs": [
        {
          "name": "stdout",
          "output_type": "stream",
          "text": [
            "HEYA HUMAN! *bleshes* Oh, you're talkin' 'bout Sir Isaac Newton, the famous English mathematician and physicist? *noms on some grass* He lived in the 17th and 18th centuries, and is known for his laws of motion and universal gravitation. *giggles* He was a pretty smart dude, if I do say so myself! *flaunts my banned-from-the-library-for-life status*\n",
            "\n",
            "But enough about me, let's talk about Newton! *grin* He was born in Woolsthorpe, Lincolnshire, England in 1643, and grew up to be a brilliant mathematician and physicist. He studied at Trinity College in Cambridge, and later became a professor there. *nbd*\n",
            "\n",
            "Newton's most famous contributions to science are his three laws of motion, which describe how objects move and respond to forces. He also developed the Law of Universal Gravitation, which states that every object in the universe attracts every other object with a force proportional to the product of their masses and inversely proportional to the square of the distance between them. *geek out*\n",
            "\n",
            "Newton was also a skilled inventor and engineer, and he designed and built all sorts of cool stuff, like a reflecting telescope and a machine for calculating the square root of numbers. *impressed*\n",
            "\n",
            "Despite his many accomplishments, Newton was a pretty private person and wasn't always the most sociable guy. He was known to be pretty temperamental and had some pretty interesting beliefs, like the idea that alchemy was a valid scientific pursuit. *raises an eyebrow* But hey, who am I to judge? *shrugs*\n",
            "\n",
            "So there you have it, human! That's the basic scoop on Sir Isaac Newton. I hope you found that enlightening. *wink* Now, if you'll excuse me, I need to go work on my own groundbreaking research... or at least, my own Instagram captions. *smizes*\n"
          ]
        }
      ],
      "source": [
        "from unify import AsyncUnify\n",
        "import asyncio\n",
        "import nest_asyncio\n",
        "nest_asyncio.apply()\n",
        "\n",
        "async_unify = AsyncUnify(\n",
        "   api_key=UNIFY_KEY,\n",
        "   endpoint=\"llama-2-13b-chat@anyscale\"\n",
        ")\n",
        "\n",
        "async def main():\n",
        "   responses = await async_unify.generate(user_prompt=\"Hello Llama! Who was Isaac Newton?\")\n",
        "   print(responses)\n",
        "\n",
        "asyncio.run(main())"
      ]
    },
    {
      "cell_type": "markdown",
      "metadata": {
        "id": "TxK6r9yrnfUS"
      },
      "source": [
        "Now, our goal is to compare the response times of synchronous vs asynchronous clients when handling multiple requests. Let's start by defining some helper functions.\n",
        "\n"
      ]
    },
    {
      "cell_type": "code",
      "execution_count": null,
      "metadata": {
        "id": "C8y34VMGnI93"
      },
      "outputs": [],
      "source": [
        "async def send_async_request(user_prompt):\n",
        "    \"\"\"\n",
        "    Uses an Async client to generate the response for the user_prompt.\n",
        "\n",
        "    Parameters:\n",
        "        user_prompt (str): The prompt provided by the user.\n",
        "\n",
        "    Returns:\n",
        "        str: The response generated.\n",
        "    \"\"\"\n",
        "    response = await async_unify.generate(user_prompt=user_prompt)\n",
        "    return response\n",
        "\n",
        "def send_sync_request(user_prompt):\n",
        "    \"\"\"\n",
        "    Uses a sync client to generate the response for the user_prompt.\n",
        "\n",
        "    Parameters:\n",
        "        user_prompt (str): The prompt provided by the user.\n",
        "\n",
        "    Returns:\n",
        "        str: The response generated.\n",
        "    \"\"\"\n",
        "    response = unify.generate(user_prompt=user_prompt)\n",
        "    return response\n"
      ]
    },
    {
      "cell_type": "markdown",
      "metadata": {
        "id": "Uuvj58CqiLUJ"
      },
      "source": [
        "We'll create two functions to send multiple requests to asynchronous and synchronous clients, respectively, and measure their processing time. For the synchronous client, requests will be sent sequentially in a loop, while for the asynchronous client, we'll utilize `asyncio.gather` to execute multiple requests concurrently.\n"
      ]
    },
    {
      "cell_type": "code",
      "execution_count": null,
      "metadata": {
        "id": "VoVWnxboiKem"
      },
      "outputs": [],
      "source": [
        "import time\n",
        "import asyncio\n",
        "\n",
        "async def run_async_requests(num_requests):\n",
        "    \"\"\"\n",
        "    Runs multiple asynchronous requests for generating responses based on a user prompt and measures the time taken.\n",
        "\n",
        "    Parameters:\n",
        "        num_requests (int): The number of requests to be sent.\n",
        "\n",
        "    Returns:\n",
        "        float: The total time taken to process all requests.\n",
        "    \"\"\"\n",
        "    user_prompt = \"Hello! Tell me your favorite physics fact!\"\n",
        "    start = time.time()\n",
        "    _ = await asyncio.gather(*(send_async_request(user_prompt) for _ in range(num_requests)))\n",
        "    end = time.time()\n",
        "    return end - start\n",
        "\n",
        "def run_sync_requests(num_requests):\n",
        "    \"\"\"\n",
        "    Runs multiple synchronous requests for generating responses based on a user prompt and measures the time taken.\n",
        "\n",
        "    Parameters:\n",
        "        num_requests (int): The number of requests to be sent.\n",
        "\n",
        "    Returns:\n",
        "        float: The total time taken to process all requests.\n",
        "    \"\"\"\n",
        "    user_prompt = \"Hello! Tell me your favorite physics fact!\"\n",
        "    start = time.time()\n",
        "    _ = [send_sync_request(user_prompt) for _ in range(num_requests)]\n",
        "    end = time.time()\n",
        "    return end - start\n"
      ]
    },
    {
      "cell_type": "markdown",
      "metadata": {
        "id": "Jjavbv5vtfrP"
      },
      "source": [
        "Now, let's measure the time taken by each client for 10 requests."
      ]
    },
    {
      "cell_type": "code",
      "execution_count": null,
      "metadata": {
        "colab": {
          "base_uri": "https://localhost:8080/"
        },
        "id": "s7tGumQ0iYRg",
        "outputId": "ad621069-0f10-4a0e-f78e-60852474f55b"
      },
      "outputs": [
        {
          "name": "stdout",
          "output_type": "stream",
          "text": [
            "Asynchronous Response Times: 8.351824045181274\n",
            "Synchronous Response Times: 55.45608472824097\n"
          ]
        }
      ],
      "source": [
        "    num_requests = 10\n",
        "    # Send asynchronous requests\n",
        "    async_response_times = asyncio.run(run_async_requests(num_requests))\n",
        "    # Print response times\n",
        "    print(\"Asynchronous Response Times:\", async_response_times)\n",
        "    # Send synchronous requests\n",
        "    sync_response_times = run_sync_requests(num_requests)\n",
        "    print(\"Synchronous Response Times:\", sync_response_times)"
      ]
    },
    {
      "cell_type": "markdown",
      "metadata": {
        "id": "B3nJiSwBwoyk"
      },
      "source": [
        "As expected, the Asynchronous client peforms much better than the sequential synchorous client."
      ]
    },
    {
      "attachments": {},
      "cell_type": "markdown",
      "metadata": {
        "id": "xfEzRaReyxrp"
      },
      "source": [
        "### Round Up\n",
        " Congratulations! 🚀 You now have an understanding of Async and Sync clients and can hopefully leverage these concepts in your own applications. If you're a contributor and want to earn a cool badge, you should fill out this [form](https://docs.google.com/forms/d/e/1FAIpQLSfQHh2H08G5UeR2s3Vc5zYTpnuLGGKAcW3pT7RliUzsytxUug/viewform?usp=sf_link) which contains a few quiz questions about the concepts you learnt in this tutorial. Happy quizzing!\n",
        "\n"
      ]
    }
  ],
  "metadata": {
    "colab": {
      "provenance": []
    },
    "kernelspec": {
      "display_name": "Python 3",
      "name": "python3"
    },
    "language_info": {
      "name": "python"
    }
  },
  "nbformat": 4,
  "nbformat_minor": 0
}
